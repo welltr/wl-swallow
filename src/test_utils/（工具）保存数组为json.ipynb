{
 "cells": [
  {
   "cell_type": "markdown",
   "metadata": {},
   "source": [
    "查看并保存数组"
   ]
  },
  {
   "cell_type": "code",
   "execution_count": 12,
   "metadata": {},
   "outputs": [
    {
     "data": {
      "text/plain": [
       "{'吞咽微动作起止时间': [{'name': '口腔运送',\n",
       "   'period': [{'start': 3.306, 'end': 4.595},\n",
       "    {'start': 39.047, 'end': 39.432}]},\n",
       "  {'name': '软腭上抬',\n",
       "   'period': [{'start': 4.347, 'end': 5.587},\n",
       "    {'start': 39.031, 'end': 39.486}]},\n",
       "  {'name': '舌骨运动',\n",
       "   'period': [{'start': 4.508, 'end': 5.967},\n",
       "    {'start': 39.932, 'end': 40.56}]},\n",
       "  {'name': '食管上括约肌开放',\n",
       "   'period': [{'start': 4.924, 'end': 5.744},\n",
       "    {'start': 39.927, 'end': 40.634}]},\n",
       "  {'name': '咽期吞咽启动',\n",
       "   'period': [{'start': 4.659, 'end': 5.738},\n",
       "    {'start': 39.352, 'end': 40.673}]},\n",
       "  {'name': '咽腔运送',\n",
       "   'period': [{'start': 4.336, 'end': 5.631},\n",
       "    {'start': 39.177, 'end': 40.679}]},\n",
       "  {'name': '喉前庭关闭',\n",
       "   'period': [{'start': 4.867, 'end': 5.609},\n",
       "    {'start': 39.324, 'end': 41.084}]},\n",
       "  {'name': '整体吞咽',\n",
       "   'period': [{'start': 3.306, 'end': 5.967},\n",
       "    {'start': 39.031, 'end': 41.084}]}],\n",
       " '关键点定位': []}"
      ]
     },
     "execution_count": 12,
     "metadata": {},
     "output_type": "execute_result"
    }
   ],
   "source": [
    "import json\n",
    "\n",
    "data = {\n",
    "    \"吞咽微动作起止时间\": [\n",
    "        {\"name\": \"口腔运送\", \"period\": [\n",
    "            {\"start\": 3.306, \"end\": 4.595}, {\"start\": 39.047, \"end\": 39.432}]},\n",
    "        {\"name\": \"软腭上抬\", \"period\": [\n",
    "            {\"start\": 4.347, \"end\": 5.587}, {\"start\": 39.031, \"end\": 39.486}]},\n",
    "        {\"name\": \"舌骨运动\", \"period\": [\n",
    "            {\"start\": 4.508, \"end\": 5.967}, {\"start\": 39.932, \"end\": 40.560}]},\n",
    "        {\"name\": \"食管上括约肌开放\", \"period\": [\n",
    "            {\"start\": 4.924, \"end\": 5.744}, {\"start\": 39.927, \"end\": 40.634}]},\n",
    "        {\"name\": \"咽期吞咽启动\", \"period\": [\n",
    "            {\"start\": 4.659, \"end\": 5.738}, {\"start\": 39.352, \"end\": 40.673}]},\n",
    "        {\"name\": \"咽腔运送\", \"period\": [\n",
    "            {\"start\": 4.336, \"end\": 5.631}, {\"start\": 39.177, \"end\": 40.679}]},\n",
    "        {\"name\": \"喉前庭关闭\", \"period\": [\n",
    "            {\"start\": 4.867, \"end\": 5.609}, {\"start\": 39.324, \"end\": 41.084}]},\n",
    "        {\"name\": \"整体吞咽\", \"period\": [\n",
    "            {\"start\": 3.306, \"end\": 5.967}, {\"start\": 39.031, \"end\": 41.084}]}\n",
    "    ],\n",
    "    \"关键点定位\": []\n",
    "}\n",
    "\n",
    "# 将数据写入到json文件中\n",
    "with open('data.json', 'w', encoding='utf-8') as f:\n",
    "    json.dump(data, f, ensure_ascii=False, indent=4)\n",
    "\n",
    "data"
   ]
  }
 ],
 "metadata": {
  "kernelspec": {
   "display_name": "xii",
   "language": "python",
   "name": "python3"
  },
  "language_info": {
   "codemirror_mode": {
    "name": "ipython",
    "version": 3
   },
   "file_extension": ".py",
   "mimetype": "text/x-python",
   "name": "python",
   "nbconvert_exporter": "python",
   "pygments_lexer": "ipython3",
   "version": "3.8.18"
  }
 },
 "nbformat": 4,
 "nbformat_minor": 2
}
